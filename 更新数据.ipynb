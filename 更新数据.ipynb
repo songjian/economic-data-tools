{
 "cells": [
  {
   "cell_type": "code",
   "execution_count": 1,
   "metadata": {},
   "outputs": [],
   "source": [
    "import numpy as np\n",
    "import pandas as pd\n",
    "from pandas import Series,DataFrame\n",
    "from datetime import datetime\n",
    "import matplotlib.pyplot as plt\n",
    "import requests\n",
    "import requests_cache\n",
    "import time\n",
    "import math\n",
    "from sqlalchemy import create_engine\n",
    "import execjs\n",
    "import random\n",
    "import json\n",
    "import sse_api_helper as sseapi\n",
    "import netease_api_helper as neteaseapi\n",
    "import szse_api_helper as szseapi\n",
    "import rates_helper\n",
    "%matplotlib inline"
   ]
  },
  {
   "cell_type": "code",
   "execution_count": 2,
   "metadata": {},
   "outputs": [],
   "source": [
    "# 更新存款利率\n",
    "# %time rates_helper.update_interest_rate()"
   ]
  },
  {
   "cell_type": "code",
   "execution_count": 3,
   "metadata": {},
   "outputs": [],
   "source": [
    "# 更新上交所和深交所股票列表\n",
    "sseapi.update_sse_stocks()\n",
    "szseapi.update_szse_stocks()"
   ]
  },
  {
   "cell_type": "code",
   "execution_count": 14,
   "metadata": {},
   "outputs": [
    {
     "data": {
      "text/html": [
       "<div>\n",
       "<style scoped>\n",
       "    .dataframe tbody tr th:only-of-type {\n",
       "        vertical-align: middle;\n",
       "    }\n",
       "\n",
       "    .dataframe tbody tr th {\n",
       "        vertical-align: top;\n",
       "    }\n",
       "\n",
       "    .dataframe thead th {\n",
       "        text-align: right;\n",
       "    }\n",
       "</style>\n",
       "<table border=\"1\" class=\"dataframe\">\n",
       "  <thead>\n",
       "    <tr style=\"text-align: right;\">\n",
       "      <th></th>\n",
       "      <th>代码</th>\n",
       "      <th>简称</th>\n",
       "      <th>上市日期</th>\n",
       "      <th>板块</th>\n",
       "      <th>交易所</th>\n",
       "      <th>所属行业</th>\n",
       "    </tr>\n",
       "  </thead>\n",
       "  <tbody>\n",
       "    <tr>\n",
       "      <th>0</th>\n",
       "      <td>600000</td>\n",
       "      <td>浦发银行</td>\n",
       "      <td>1999-11-10</td>\n",
       "      <td>主板A股</td>\n",
       "      <td>0</td>\n",
       "      <td></td>\n",
       "    </tr>\n",
       "    <tr>\n",
       "      <th>1</th>\n",
       "      <td>600004</td>\n",
       "      <td>白云机场</td>\n",
       "      <td>2003-04-28</td>\n",
       "      <td>主板A股</td>\n",
       "      <td>0</td>\n",
       "      <td></td>\n",
       "    </tr>\n",
       "    <tr>\n",
       "      <th>2</th>\n",
       "      <td>600006</td>\n",
       "      <td>东风汽车</td>\n",
       "      <td>1999-07-27</td>\n",
       "      <td>主板A股</td>\n",
       "      <td>0</td>\n",
       "      <td></td>\n",
       "    </tr>\n",
       "    <tr>\n",
       "      <th>3</th>\n",
       "      <td>600007</td>\n",
       "      <td>中国国贸</td>\n",
       "      <td>1999-03-12</td>\n",
       "      <td>主板A股</td>\n",
       "      <td>0</td>\n",
       "      <td></td>\n",
       "    </tr>\n",
       "    <tr>\n",
       "      <th>4</th>\n",
       "      <td>600008</td>\n",
       "      <td>首创股份</td>\n",
       "      <td>2000-04-27</td>\n",
       "      <td>主板A股</td>\n",
       "      <td>0</td>\n",
       "      <td></td>\n",
       "    </tr>\n",
       "    <tr>\n",
       "      <th>...</th>\n",
       "      <td>...</td>\n",
       "      <td>...</td>\n",
       "      <td>...</td>\n",
       "      <td>...</td>\n",
       "      <td>...</td>\n",
       "      <td>...</td>\n",
       "    </tr>\n",
       "    <tr>\n",
       "      <th>4135</th>\n",
       "      <td>300899</td>\n",
       "      <td>上海凯鑫</td>\n",
       "      <td>2020-10-16</td>\n",
       "      <td>创业板</td>\n",
       "      <td>1</td>\n",
       "      <td>N 公共环保</td>\n",
       "    </tr>\n",
       "    <tr>\n",
       "      <th>4136</th>\n",
       "      <td>300900</td>\n",
       "      <td>广联航空</td>\n",
       "      <td>2020-10-29</td>\n",
       "      <td>创业板</td>\n",
       "      <td>1</td>\n",
       "      <td>C 制造业</td>\n",
       "    </tr>\n",
       "    <tr>\n",
       "      <th>4137</th>\n",
       "      <td>300901</td>\n",
       "      <td>中胤时尚</td>\n",
       "      <td>2020-10-29</td>\n",
       "      <td>创业板</td>\n",
       "      <td>1</td>\n",
       "      <td>M 科研服务</td>\n",
       "    </tr>\n",
       "    <tr>\n",
       "      <th>4138</th>\n",
       "      <td>300902</td>\n",
       "      <td>国安达</td>\n",
       "      <td>2020-10-29</td>\n",
       "      <td>创业板</td>\n",
       "      <td>1</td>\n",
       "      <td>C 制造业</td>\n",
       "    </tr>\n",
       "    <tr>\n",
       "      <th>4139</th>\n",
       "      <td>300903</td>\n",
       "      <td>科翔股份</td>\n",
       "      <td>2020-11-05</td>\n",
       "      <td>创业板</td>\n",
       "      <td>1</td>\n",
       "      <td>C 制造业</td>\n",
       "    </tr>\n",
       "  </tbody>\n",
       "</table>\n",
       "<p>4140 rows × 6 columns</p>\n",
       "</div>"
      ],
      "text/plain": [
       "          代码      简称          上市日期    板块  交易所    所属行业\n",
       "0     600000    浦发银行    1999-11-10  主板A股    0        \n",
       "1     600004    白云机场    2003-04-28  主板A股    0        \n",
       "2     600006    东风汽车    1999-07-27  主板A股    0        \n",
       "3     600007    中国国贸    1999-03-12  主板A股    0        \n",
       "4     600008    首创股份    2000-04-27  主板A股    0        \n",
       "...      ...     ...           ...   ...  ...     ...\n",
       "4135  300899    上海凯鑫    2020-10-16   创业板    1  N 公共环保\n",
       "4136  300900    广联航空    2020-10-29   创业板    1   C 制造业\n",
       "4137  300901    中胤时尚    2020-10-29   创业板    1  M 科研服务\n",
       "4138  300902     国安达    2020-10-29   创业板    1   C 制造业\n",
       "4139  300903    科翔股份    2020-11-05   创业板    1   C 制造业\n",
       "\n",
       "[4140 rows x 6 columns]"
      ]
     },
     "execution_count": 14,
     "metadata": {},
     "output_type": "execute_result"
    }
   ],
   "source": [
    "engine = create_engine('sqlite:///stock.sqlite')\n",
    "df = pd.read_sql_table('stock_list', engine.connect())\n",
    "df"
   ]
  },
  {
   "cell_type": "code",
   "execution_count": 16,
   "metadata": {},
   "outputs": [
    {
     "ename": "SyntaxError",
     "evalue": "invalid syntax (<ipython-input-16-a34f54accf58>, line 1)",
     "output_type": "error",
     "traceback": [
      "\u001b[0;36m  File \u001b[0;32m\"<ipython-input-16-a34f54accf58>\"\u001b[0;36m, line \u001b[0;32m1\u001b[0m\n\u001b[0;31m    df['代码'][0*]\u001b[0m\n\u001b[0m               ^\u001b[0m\n\u001b[0;31mSyntaxError\u001b[0m\u001b[0;31m:\u001b[0m invalid syntax\n"
     ]
    }
   ],
   "source": [
    "df['代码'][0*]"
   ]
  },
  {
   "cell_type": "markdown",
   "metadata": {},
   "source": [
    "更新上证所分红数据"
   ]
  },
  {
   "cell_type": "code",
   "execution_count": 6,
   "metadata": {},
   "outputs": [
    {
     "name": "stdout",
     "output_type": "stream",
     "text": [
      "CPU times: user 6 µs, sys: 1 µs, total: 7 µs\n",
      "Wall time: 11.4 µs\n"
     ]
    }
   ],
   "source": [
    "%%time\n",
    "# sseapi.update_dividends()"
   ]
  },
  {
   "cell_type": "markdown",
   "metadata": {},
   "source": [
    "更新上证所送股数据"
   ]
  },
  {
   "cell_type": "code",
   "execution_count": 7,
   "metadata": {},
   "outputs": [
    {
     "name": "stdout",
     "output_type": "stream",
     "text": [
      "CPU times: user 8 µs, sys: 1 µs, total: 9 µs\n",
      "Wall time: 15 µs\n"
     ]
    }
   ],
   "source": [
    "%%time\n",
    "# sseapi.update_bonus()"
   ]
  },
  {
   "cell_type": "markdown",
   "metadata": {},
   "source": [
    "更新上证所配股数据"
   ]
  },
  {
   "cell_type": "code",
   "execution_count": 8,
   "metadata": {},
   "outputs": [
    {
     "name": "stdout",
     "output_type": "stream",
     "text": [
      "CPU times: user 6 µs, sys: 1 µs, total: 7 µs\n",
      "Wall time: 11.4 µs\n"
     ]
    }
   ],
   "source": [
    "%%time\n",
    "# sseapi.update_allotments()"
   ]
  },
  {
   "cell_type": "code",
   "execution_count": 9,
   "metadata": {},
   "outputs": [],
   "source": [
    "# code = '600583'\n",
    "# neteaseapi.get_netease_historical_data(0, code, '19890501', '20201212')\n",
    "# df = neteaseapi.get_historical_data(code)\n",
    "# df"
   ]
  },
  {
   "cell_type": "code",
   "execution_count": 10,
   "metadata": {
    "scrolled": false
   },
   "outputs": [],
   "source": [
    "# df = neteaseapi.restoration_of_rights(df)\n",
    "# df"
   ]
  },
  {
   "cell_type": "code",
   "execution_count": 11,
   "metadata": {},
   "outputs": [],
   "source": [
    "# df[['收盘价', '后复权']].plot(subplots=True, grid=True, figsize=(8, 6))"
   ]
  }
 ],
 "metadata": {
  "kernelspec": {
   "display_name": "Python 3 (ipykernel)",
   "language": "python",
   "name": "python3"
  },
  "language_info": {
   "codemirror_mode": {
    "name": "ipython",
    "version": 3
   },
   "file_extension": ".py",
   "mimetype": "text/x-python",
   "name": "python",
   "nbconvert_exporter": "python",
   "pygments_lexer": "ipython3",
   "version": "3.7.4"
  }
 },
 "nbformat": 4,
 "nbformat_minor": 4
}
