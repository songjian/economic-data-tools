{
 "cells": [
  {
   "cell_type": "code",
   "execution_count": 35,
   "id": "7b81c9ae",
   "metadata": {},
   "outputs": [],
   "source": [
    "from netease import netease\n",
    "from sina_finance import sina\n",
    "import numpy as np"
   ]
  },
  {
   "cell_type": "code",
   "execution_count": 44,
   "id": "4067ea2c",
   "metadata": {},
   "outputs": [],
   "source": [
    "def mgjzc(code):\n",
    "    mgjzc=sina.mgjzc(code)\n",
    "    hp=netease.historical_prices('0'+code)\n",
    "    mgjzc.drop(mgjzc.tail(1).index, inplace=True)\n",
    "    mgjzc['每股净资产']=mgjzc['每股净资产'].astype('float')\n",
    "    mgjzc['股价']=hp['收盘价'].resample('Q').ffill()\n",
    "    mgjzc['市净率']=mgjzc['股价']/mgjzc['每股净资产']\n",
    "    mgjzc.sort_index(inplace=True)\n",
    "    return mgjzc"
   ]
  },
  {
   "cell_type": "code",
   "execution_count": 47,
   "id": "d4efcc19",
   "metadata": {},
   "outputs": [],
   "source": [
    "mgjzc=sina.mgjzc('601328')"
   ]
  },
  {
   "cell_type": "code",
   "execution_count": 50,
   "id": "ab8585a1",
   "metadata": {},
   "outputs": [
    {
     "data": {
      "text/plain": [
       "日期\n",
       "2022-03-31    10.899\n",
       "2021-12-31    10.636\n",
       "2021-09-30    10.363\n",
       "2021-06-30    10.083\n",
       "2021-03-31    10.186\n",
       "               ...  \n",
       "2004-09-30          \n",
       "2004-06-30          \n",
       "2003-12-31     1.052\n",
       "2002-12-31     0.543\n",
       "2001-12-31     2.038\n",
       "Name: 每股净资产, Length: 74, dtype: object"
      ]
     },
     "execution_count": 50,
     "metadata": {},
     "output_type": "execute_result"
    }
   ],
   "source": [
    "mgjzc['每股净资产']"
   ]
  },
  {
   "cell_type": "code",
   "execution_count": 37,
   "id": "dad4933c",
   "metadata": {
    "scrolled": false
   },
   "outputs": [
    {
     "data": {
      "text/plain": [
       "<AxesSubplot:xlabel='日期'>"
      ]
     },
     "execution_count": 37,
     "metadata": {},
     "output_type": "execute_result"
    },
    {
     "data": {
      "image/png": "[encoded data removed]",
      "text/plain": [
       "<Figure size 864x720 with 1 Axes>"
      ]
     },
     "metadata": {
      "needs_background": "light"
     },
     "output_type": "display_data"
    }
   ],
   "source": [
    "mgjzc=mgjzc('600161')\n",
    "mgjzc['每股净资产'].plot(figsize=(12,10), kind='bar')"
   ]
  },
  {
   "cell_type": "code",
   "execution_count": 41,
   "id": "ef6fe5b9",
   "metadata": {},
   "outputs": [
    {
     "data": {
      "text/html": [
       "<div>\n",
       "<style scoped>\n",
       "    .dataframe tbody tr th:only-of-type {\n",
       "        vertical-align: middle;\n",
       "    }\n",
       "\n",
       "    .dataframe tbody tr th {\n",
       "        vertical-align: top;\n",
       "    }\n",
       "\n",
       "    .dataframe thead th {\n",
       "        text-align: right;\n",
       "    }\n",
       "</style>\n",
       "<table border=\"1\" class=\"dataframe\">\n",
       "  <thead>\n",
       "    <tr style=\"text-align: right;\">\n",
       "      <th></th>\n",
       "      <th>每股净资产</th>\n",
       "      <th>股价</th>\n",
       "      <th>市净率</th>\n",
       "    </tr>\n",
       "    <tr>\n",
       "      <th>日期</th>\n",
       "      <th></th>\n",
       "      <th></th>\n",
       "      <th></th>\n",
       "    </tr>\n",
       "  </thead>\n",
       "  <tbody>\n",
       "    <tr>\n",
       "      <th>1994-12-31</th>\n",
       "      <td>2.860</td>\n",
       "      <td>NaN</td>\n",
       "      <td>NaN</td>\n",
       "    </tr>\n",
       "    <tr>\n",
       "      <th>1995-12-31</th>\n",
       "      <td>3.929</td>\n",
       "      <td>NaN</td>\n",
       "      <td>NaN</td>\n",
       "    </tr>\n",
       "    <tr>\n",
       "      <th>1996-06-30</th>\n",
       "      <td>6.178</td>\n",
       "      <td>NaN</td>\n",
       "      <td>NaN</td>\n",
       "    </tr>\n",
       "    <tr>\n",
       "      <th>1996-12-31</th>\n",
       "      <td>3.707</td>\n",
       "      <td>38.49</td>\n",
       "      <td>10.383059</td>\n",
       "    </tr>\n",
       "    <tr>\n",
       "      <th>1997-06-30</th>\n",
       "      <td>4.651</td>\n",
       "      <td>43.26</td>\n",
       "      <td>9.301226</td>\n",
       "    </tr>\n",
       "    <tr>\n",
       "      <th>...</th>\n",
       "      <td>...</td>\n",
       "      <td>...</td>\n",
       "      <td>...</td>\n",
       "    </tr>\n",
       "    <tr>\n",
       "      <th>2021-03-31</th>\n",
       "      <td>18.772</td>\n",
       "      <td>62.70</td>\n",
       "      <td>3.340081</td>\n",
       "    </tr>\n",
       "    <tr>\n",
       "      <th>2021-06-30</th>\n",
       "      <td>16.342</td>\n",
       "      <td>52.10</td>\n",
       "      <td>3.188104</td>\n",
       "    </tr>\n",
       "    <tr>\n",
       "      <th>2021-09-30</th>\n",
       "      <td>15.341</td>\n",
       "      <td>38.75</td>\n",
       "      <td>2.525911</td>\n",
       "    </tr>\n",
       "    <tr>\n",
       "      <th>2021-12-31</th>\n",
       "      <td>17.525</td>\n",
       "      <td>37.03</td>\n",
       "      <td>2.112981</td>\n",
       "    </tr>\n",
       "    <tr>\n",
       "      <th>2022-03-31</th>\n",
       "      <td>16.457</td>\n",
       "      <td>32.30</td>\n",
       "      <td>1.962691</td>\n",
       "    </tr>\n",
       "  </tbody>\n",
       "</table>\n",
       "<p>95 rows × 3 columns</p>\n",
       "</div>"
      ],
      "text/plain": [
       "             每股净资产     股价        市净率\n",
       "日期                                  \n",
       "1994-12-31   2.860    NaN        NaN\n",
       "1995-12-31   3.929    NaN        NaN\n",
       "1996-06-30   6.178    NaN        NaN\n",
       "1996-12-31   3.707  38.49  10.383059\n",
       "1997-06-30   4.651  43.26   9.301226\n",
       "...            ...    ...        ...\n",
       "2021-03-31  18.772  62.70   3.340081\n",
       "2021-06-30  16.342  52.10   3.188104\n",
       "2021-09-30  15.341  38.75   2.525911\n",
       "2021-12-31  17.525  37.03   2.112981\n",
       "2022-03-31  16.457  32.30   1.962691\n",
       "\n",
       "[95 rows x 3 columns]"
      ]
     },
     "execution_count": 41,
     "metadata": {},
     "output_type": "execute_result"
    }
   ],
   "source": [
    "mgjzc"
   ]
  }
 ],
 "metadata": {
  "kernelspec": {
   "display_name": "Python 3 (ipykernel)",
   "language": "python",
   "name": "python3"
  },
  "language_info": {
   "codemirror_mode": {
    "name": "ipython",
    "version": 3
   },
   "file_extension": ".py",
   "mimetype": "text/x-python",
   "name": "python",
   "nbconvert_exporter": "python",
   "pygments_lexer": "ipython3",
   "version": "3.9.7"
  }
 },
 "nbformat": 4,
 "nbformat_minor": 5
}
