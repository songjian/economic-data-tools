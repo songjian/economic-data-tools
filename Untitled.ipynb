{
 "cells": [
  {
   "cell_type": "code",
   "execution_count": 1,
   "metadata": {},
   "outputs": [],
   "source": [
    "import rates_helper"
   ]
  },
  {
   "cell_type": "code",
   "execution_count": 10,
   "metadata": {},
   "outputs": [
    {
     "data": {
      "text/plain": [
       "2015-10-24    0.112500\n",
       "2015-08-26    0.133333\n",
       "2015-06-28    0.154167\n",
       "2015-05-11    0.179167\n",
       "2015-02-28    0.208333\n",
       "2014-11-22    0.216667\n",
       "2012-07-06    0.237500\n",
       "2012-06-08    0.258333\n",
       "2011-07-07    0.258333\n",
       "2011-04-06    0.237500\n",
       "2011-02-09    0.216667\n",
       "2010-12-26    0.187500\n",
       "2010-10-20    0.159167\n",
       "2008-12-23    0.142500\n",
       "2008-11-27    0.165000\n",
       "2008-10-30    0.240000\n",
       "2008-10-09    0.262500\n",
       "2007-12-21    0.277500\n",
       "2007-09-15    0.240000\n",
       "2007-08-22    0.217500\n",
       "2007-07-21    0.195000\n",
       "2007-05-19    0.172500\n",
       "2007-03-18    0.165000\n",
       "2006-08-19    0.150000\n",
       "2004-10-29    0.142500\n",
       "2002-02-21    0.142500\n",
       "1999-06-10    0.165000\n",
       "1998-12-07    0.232500\n",
       "1998-07-01    0.232500\n",
       "1998-03-25    0.240000\n",
       "1997-10-23    0.240000\n",
       "1996-08-23    0.277500\n",
       "1996-05-01    0.405000\n",
       "Name: 三个月, dtype: float64"
      ]
     },
     "execution_count": 10,
     "metadata": {},
     "output_type": "execute_result"
    }
   ],
   "source": [
    "rates = rates_helper.get_interest_rate()['三个月'] / 12\n",
    "rates"
   ]
  }
 ],
 "metadata": {
  "kernelspec": {
   "display_name": "Python 3 (ipykernel)",
   "language": "python",
   "name": "python3"
  },
  "language_info": {
   "codemirror_mode": {
    "name": "ipython",
    "version": 3
   },
   "file_extension": ".py",
   "mimetype": "text/x-python",
   "name": "python",
   "nbconvert_exporter": "python",
   "pygments_lexer": "ipython3",
   "version": "3.7.4"
  }
 },
 "nbformat": 4,
 "nbformat_minor": 4
}
